{
  "cells": [
    {
      "cell_type": "markdown",
      "metadata": {
        "id": "view-in-github",
        "colab_type": "text"
      },
      "source": [
        "<a href=\"https://colab.research.google.com/github/De78-cyber/Transfer_learning_Desafio/blob/main/Matriz_de_Confus%C3%A3o.ipynb\" target=\"_parent\"><img src=\"https://colab.research.google.com/assets/colab-badge.svg\" alt=\"Open In Colab\"/></a>"
      ]
    },
    {
      "cell_type": "code",
      "source": [
        "from tensorflow.keras import datasets, layers, models\n",
        "import matplotlib.pyplot as plt\n",
        "import tensorflow as tf\n",
        "import numpy as np\n",
        "import seaborn as sns\n",
        "import pandas as pd\n",
        "\n"
      ],
      "metadata": {
        "id": "Fs7PEXuP1DMB"
      },
      "execution_count": 11,
      "outputs": []
    },
    {
      "cell_type": "code",
      "source": [
        "tf.__version__\n",
        "'2.0.0-betal'"
      ],
      "metadata": {
        "colab": {
          "base_uri": "https://localhost:8080/",
          "height": 36
        },
        "id": "eb4eX5oK2GGF",
        "outputId": "a12d6e6f-a49a-476b-e716-360ea9772473"
      },
      "execution_count": 3,
      "outputs": [
        {
          "output_type": "execute_result",
          "data": {
            "text/plain": [
              "'2.0.0-betal'"
            ],
            "application/vnd.google.colaboratory.intrinsic+json": {
              "type": "string"
            }
          },
          "metadata": {},
          "execution_count": 3
        }
      ]
    },
    {
      "cell_type": "code",
      "source": [
        "%load_ext tensorboard"
      ],
      "metadata": {
        "id": "hhakSE-32UUI"
      },
      "execution_count": 4,
      "outputs": []
    },
    {
      "cell_type": "code",
      "source": [
        "logdir= 'log'"
      ],
      "metadata": {
        "id": "21FgDycX2pM6"
      },
      "execution_count": 6,
      "outputs": []
    },
    {
      "cell_type": "code",
      "source": [
        "(train_images, train_labels), (test_images, test_labels)= datasets.mnist.load_data()\n",
        "train_images= train_images.reshape((60000, 28, 28, 1))\n",
        "test_images= test_images.reshape((10000, 28, 28, 1))\n",
        "\n",
        "train_images = train_images /255.0\n",
        "test_images = test_images /255.0\n",
        "\n",
        "classes=[0,1,2,3,4,5,6,7,8,9]\n"
      ],
      "metadata": {
        "id": "bDsd_9863HVq",
        "colab": {
          "base_uri": "https://localhost:8080/"
        },
        "outputId": "685a353f-3e3d-4577-922e-809656ac2db7"
      },
      "execution_count": 5,
      "outputs": [
        {
          "output_type": "stream",
          "name": "stdout",
          "text": [
            "Downloading data from https://storage.googleapis.com/tensorflow/tf-keras-datasets/mnist.npz\n",
            "\u001b[1m11490434/11490434\u001b[0m \u001b[32m━━━━━━━━━━━━━━━━━━━━\u001b[0m\u001b[37m\u001b[0m \u001b[1m0s\u001b[0m 0us/step\n"
          ]
        }
      ]
    },
    {
      "cell_type": "code",
      "source": [
        "model= models.Sequential()\n",
        "model.add(layers.Conv2D(32, (3, 3), activation= 'relu', input_shape=(28, 28, 1)))\n",
        "model.add(layers.MaxPooling2D((2, 2)))\n",
        "model.add(layers.Conv2D(64,(3, 3), activation= 'relu'))\n",
        "model.add(layers.MaxPooling2D((2, 2)))\n",
        "model.add(layers.Conv2D(64,(3, 3)))\n",
        "\n",
        "\n",
        "model.add(layers.Flatten())\n",
        "model.add(layers.Dense(64, activation= 'relu'))\n",
        "model.add(layers.Dense(10, activation='softmax'))"
      ],
      "metadata": {
        "id": "LQGvWy2A5ARg",
        "colab": {
          "base_uri": "https://localhost:8080/"
        },
        "outputId": "e7e79ef8-c101-4565-b199-87d3c09210b1"
      },
      "execution_count": 7,
      "outputs": [
        {
          "output_type": "stream",
          "name": "stderr",
          "text": [
            "/usr/local/lib/python3.10/dist-packages/keras/src/layers/convolutional/base_conv.py:107: UserWarning: Do not pass an `input_shape`/`input_dim` argument to a layer. When using Sequential models, prefer using an `Input(shape)` object as the first layer in the model instead.\n",
            "  super().__init__(activity_regularizer=activity_regularizer, **kwargs)\n"
          ]
        }
      ]
    },
    {
      "cell_type": "code",
      "source": [
        "tensorboard_callback= tf.keras.callbacks.TensorBoard(logdir, histogram_freq=1)"
      ],
      "metadata": {
        "id": "R95J23pi7M4C"
      },
      "execution_count": 8,
      "outputs": []
    },
    {
      "cell_type": "code",
      "source": [
        "model.compile(optimizer='adam',\n",
        "              loss='sparse_categorical_crossentropy',\n",
        "              metrics=['accuracy'])\n",
        "\n",
        "model.fit(x= train_images,\n",
        "           y=train_labels,\n",
        "           epochs=5,\n",
        "           validation_data=(test_images, test_labels))\n"
      ],
      "metadata": {
        "colab": {
          "base_uri": "https://localhost:8080/"
        },
        "id": "MIVTvz-x73C9",
        "outputId": "86d6b616-4902-4fb2-ad40-583306fa4c5b"
      },
      "execution_count": 9,
      "outputs": [
        {
          "output_type": "stream",
          "name": "stdout",
          "text": [
            "Epoch 1/5\n",
            "\u001b[1m1875/1875\u001b[0m \u001b[32m━━━━━━━━━━━━━━━━━━━━\u001b[0m\u001b[37m\u001b[0m \u001b[1m64s\u001b[0m 33ms/step - accuracy: 0.9050 - loss: 0.3087 - val_accuracy: 0.9843 - val_loss: 0.0475\n",
            "Epoch 2/5\n",
            "\u001b[1m1875/1875\u001b[0m \u001b[32m━━━━━━━━━━━━━━━━━━━━\u001b[0m\u001b[37m\u001b[0m \u001b[1m82s\u001b[0m 33ms/step - accuracy: 0.9855 - loss: 0.0474 - val_accuracy: 0.9897 - val_loss: 0.0337\n",
            "Epoch 3/5\n",
            "\u001b[1m1875/1875\u001b[0m \u001b[32m━━━━━━━━━━━━━━━━━━━━\u001b[0m\u001b[37m\u001b[0m \u001b[1m82s\u001b[0m 33ms/step - accuracy: 0.9896 - loss: 0.0322 - val_accuracy: 0.9910 - val_loss: 0.0300\n",
            "Epoch 4/5\n",
            "\u001b[1m1875/1875\u001b[0m \u001b[32m━━━━━━━━━━━━━━━━━━━━\u001b[0m\u001b[37m\u001b[0m \u001b[1m61s\u001b[0m 33ms/step - accuracy: 0.9913 - loss: 0.0277 - val_accuracy: 0.9906 - val_loss: 0.0307\n",
            "Epoch 5/5\n",
            "\u001b[1m1875/1875\u001b[0m \u001b[32m━━━━━━━━━━━━━━━━━━━━\u001b[0m\u001b[37m\u001b[0m \u001b[1m81s\u001b[0m 32ms/step - accuracy: 0.9938 - loss: 0.0206 - val_accuracy: 0.9901 - val_loss: 0.0363\n"
          ]
        },
        {
          "output_type": "execute_result",
          "data": {
            "text/plain": [
              "<keras.src.callbacks.history.History at 0x7a110173a770>"
            ]
          },
          "metadata": {},
          "execution_count": 9
        }
      ]
    },
    {
      "cell_type": "code",
      "source": [
        "y_true=test_labels\n",
        "y_pred_probs = model.predict(test_images)\n",
        "y_pred = np.argmax(y_pred_probs, axis=-1)"
      ],
      "metadata": {
        "colab": {
          "base_uri": "https://localhost:8080/"
        },
        "id": "zlh-PHudAy8-",
        "outputId": "5d8d972f-e8c6-4a22-9dcf-699f0ea88107"
      },
      "execution_count": 13,
      "outputs": [
        {
          "output_type": "stream",
          "name": "stdout",
          "text": [
            "\u001b[1m313/313\u001b[0m \u001b[32m━━━━━━━━━━━━━━━━━━━━\u001b[0m\u001b[37m\u001b[0m \u001b[1m3s\u001b[0m 9ms/step\n"
          ]
        }
      ]
    },
    {
      "cell_type": "code",
      "source": [
        "classes=[0,1,2,3,4,5,6,7,8,9]"
      ],
      "metadata": {
        "id": "GOwPrQxyDfmT"
      },
      "execution_count": 14,
      "outputs": []
    },
    {
      "cell_type": "code",
      "source": [
        "con_mat = tf.math.confusion_matrix(labels=y_true, predictions=y_pred).numpy()\n",
        "con_mat_norm = np.around(con_mat.astype('float') / con_mat.sum(axis=1) [:, np.newaxis], decimals=2)\n",
        "\n",
        "unique_true = np.unique(y_true)\n",
        "unique_pred = np.unique(y_pred)\n",
        "\n",
        "print(unique_true)\n",
        "con_mat = tf.math.confusion_matrix(labels=y_true, predictions=y_pred).numpy()\n",
        "con_mat_norm = np.around(con_mat.astype('float') / con_mat.sum(axis=1)[:, np.newaxis], decimals=2)\n",
        "\n",
        "unique_true = np.unique(y_true)\n",
        "unique_pred = np.unique(y_pred)\n",
        "\n",
        "print(unique_true)\n",
        "print(unique_pred)\n",
        "\n",
        "classes = sorted(list(set(unique_true) | set(unique_pred)))\n",
        "\n",
        "con_mat_df = pd.DataFrame(con_mat_norm,\n",
        "                          index = classes,\n",
        "                          columns =classes)\n",
        "\n",
        "\n",
        "figure = plt.figure(figsize=(8, 8))\n",
        "sns.heatmap(con_mat_df, annot=True, cmap=plt.cm.Blues)\n",
        "plt.tight_layout()\n",
        "plt.ylabel('True label')\n",
        "plt.xlabel('Predicted label')\n",
        "plt.show()"
      ],
      "metadata": {
        "colab": {
          "base_uri": "https://localhost:8080/",
          "height": 881
        },
        "id": "kLmbZFHjD5sk",
        "outputId": "1b69bb69-3172-4cfc-b3c5-8ef3b44b5788"
      },
      "execution_count": 15,
      "outputs": [
        {
          "output_type": "stream",
          "name": "stdout",
          "text": [
            "[0 1 2 3 4 5 6 7 8 9]\n",
            "[0 1 2 3 4 5 6 7 8 9]\n",
            "[0 1 2 3 4 5 6 7 8 9]\n"
          ]
        },
        {
          "output_type": "display_data",
          "data": {
            "text/plain": [
              "<Figure size 800x800 with 2 Axes>"
            ],
            "image/png": "[encoded data removed]"
          },
          "metadata": {}
        }
      ]
    },
    {
      "cell_type": "code",
      "source": [
        "model1 = models.Sequential()\n",
        "model1.add(layers.Conv2D(32,(3, 3), activation= 'relu', input_shape=(28,28,1)))\n",
        "model1.add(layers.MaxPooling2D((2, 2)))\n",
        "model1.add(layers.Conv2D(64,(3, 3), activation='relu'))\n",
        "model1.add(layers.MaxPooling2D((2, 2)))\n",
        "model1.add(layers.Conv2D(64,(3, 3)))\n",
        "\n",
        "model1.add(layers.Flatten())\n",
        "model1.add(layers.Dense(64, activation= 'relu'))\n",
        "model1.add(layers.Dense(10, activation='softmax'))\n",
        "\n",
        "model1.compile(\n",
        "    optimizer='adam',\n",
        "    loss='sparse_categorical_crossentropy',\n",
        "    metrics=['accuracy']\n",
        "\n",
        ")"
      ],
      "metadata": {
        "colab": {
          "base_uri": "https://localhost:8080/"
        },
        "id": "GwA_-P2kGhYj",
        "outputId": "10b94c67-e035-4641-ecbb-4103f4b5a014"
      },
      "execution_count": 16,
      "outputs": [
        {
          "output_type": "stream",
          "name": "stderr",
          "text": [
            "/usr/local/lib/python3.10/dist-packages/keras/src/layers/convolutional/base_conv.py:107: UserWarning: Do not pass an `input_shape`/`input_dim` argument to a layer. When using Sequential models, prefer using an `Input(shape)` object as the first layer in the model instead.\n",
            "  super().__init__(activity_regularizer=activity_regularizer, **kwargs)\n"
          ]
        }
      ]
    },
    {
      "cell_type": "code",
      "source": [
        "from tensorflow.keras.datasets import mnist\n",
        "(x_train, y_train),(x_test, y_test)= mnist.load_data()\n",
        "x_train= x_train.reshape((x_train.shape[0], 28, 28, 1)).astype('float32')/255\n",
        "x_test= x_test.reshape((x_test.shape[0], 28, 28,1)).astype('float32')/255\n",
        "\n",
        "\n"
      ],
      "metadata": {
        "id": "n45R_AJA4mpS"
      },
      "execution_count": 22,
      "outputs": []
    },
    {
      "cell_type": "code",
      "source": [
        "history= model1.fit(x_train, y_train, epochs= 10, batch_size= 64, validation_data=(x_test, y_test))"
      ],
      "metadata": {
        "colab": {
          "base_uri": "https://localhost:8080/"
        },
        "id": "Lv-eAJzc7hZX",
        "outputId": "3c81db7c-bc15-4d82-c725-bbec7301bf74"
      },
      "execution_count": 23,
      "outputs": [
        {
          "output_type": "stream",
          "name": "stdout",
          "text": [
            "Epoch 1/10\n",
            "\u001b[1m938/938\u001b[0m \u001b[32m━━━━━━━━━━━━━━━━━━━━\u001b[0m\u001b[37m\u001b[0m \u001b[1m60s\u001b[0m 62ms/step - accuracy: 0.8863 - loss: 0.3805 - val_accuracy: 0.9837 - val_loss: 0.0541\n",
            "Epoch 2/10\n",
            "\u001b[1m938/938\u001b[0m \u001b[32m━━━━━━━━━━━━━━━━━━━━\u001b[0m\u001b[37m\u001b[0m \u001b[1m57s\u001b[0m 60ms/step - accuracy: 0.9830 - loss: 0.0561 - val_accuracy: 0.9850 - val_loss: 0.0477\n",
            "Epoch 3/10\n",
            "\u001b[1m938/938\u001b[0m \u001b[32m━━━━━━━━━━━━━━━━━━━━\u001b[0m\u001b[37m\u001b[0m \u001b[1m81s\u001b[0m 60ms/step - accuracy: 0.9884 - loss: 0.0379 - val_accuracy: 0.9907 - val_loss: 0.0309\n",
            "Epoch 4/10\n",
            "\u001b[1m938/938\u001b[0m \u001b[32m━━━━━━━━━━━━━━━━━━━━\u001b[0m\u001b[37m\u001b[0m \u001b[1m82s\u001b[0m 59ms/step - accuracy: 0.9910 - loss: 0.0286 - val_accuracy: 0.9882 - val_loss: 0.0342\n",
            "Epoch 5/10\n",
            "\u001b[1m938/938\u001b[0m \u001b[32m━━━━━━━━━━━━━━━━━━━━\u001b[0m\u001b[37m\u001b[0m \u001b[1m81s\u001b[0m 59ms/step - accuracy: 0.9927 - loss: 0.0234 - val_accuracy: 0.9895 - val_loss: 0.0314\n",
            "Epoch 6/10\n",
            "\u001b[1m938/938\u001b[0m \u001b[32m━━━━━━━━━━━━━━━━━━━━\u001b[0m\u001b[37m\u001b[0m \u001b[1m57s\u001b[0m 61ms/step - accuracy: 0.9938 - loss: 0.0186 - val_accuracy: 0.9882 - val_loss: 0.0380\n",
            "Epoch 7/10\n",
            "\u001b[1m938/938\u001b[0m \u001b[32m━━━━━━━━━━━━━━━━━━━━\u001b[0m\u001b[37m\u001b[0m \u001b[1m80s\u001b[0m 59ms/step - accuracy: 0.9945 - loss: 0.0160 - val_accuracy: 0.9910 - val_loss: 0.0314\n",
            "Epoch 8/10\n",
            "\u001b[1m938/938\u001b[0m \u001b[32m━━━━━━━━━━━━━━━━━━━━\u001b[0m\u001b[37m\u001b[0m \u001b[1m82s\u001b[0m 59ms/step - accuracy: 0.9955 - loss: 0.0140 - val_accuracy: 0.9903 - val_loss: 0.0317\n",
            "Epoch 9/10\n",
            "\u001b[1m938/938\u001b[0m \u001b[32m━━━━━━━━━━━━━━━━━━━━\u001b[0m\u001b[37m\u001b[0m \u001b[1m86s\u001b[0m 63ms/step - accuracy: 0.9954 - loss: 0.0141 - val_accuracy: 0.9883 - val_loss: 0.0393\n",
            "Epoch 10/10\n",
            "\u001b[1m938/938\u001b[0m \u001b[32m━━━━━━━━━━━━━━━━━━━━\u001b[0m\u001b[37m\u001b[0m \u001b[1m78s\u001b[0m 59ms/step - accuracy: 0.9968 - loss: 0.0096 - val_accuracy: 0.9886 - val_loss: 0.0405\n"
          ]
        }
      ]
    },
    {
      "cell_type": "code",
      "source": [
        "from sklearn.metrics import confusion_matrix, accuracy_score, recall_score, precision_score, f1_score"
      ],
      "metadata": {
        "id": "7O8lLkrvEAI5"
      },
      "execution_count": 27,
      "outputs": []
    },
    {
      "cell_type": "code",
      "source": [
        "y_pred= model1.predict(x_test)\n",
        "y_pred_classes= np.argmax(y_pred, axis= 1)\n",
        "conf_mat = confusion_matrix(y_test, y_pred_classes)\n",
        "accuracy= accuracy_score(y_test, y_pred_classes)\n",
        "sensibilidade= recall_score(y_test, y_pred_classes, average='weighted')\n",
        "precisao= precision_score(y_test, y_pred_classes, average='weighted')\n",
        "f_score= f1_score(y_test, y_pred_classes, average='weighted')\n",
        "tn= conf_mat.sum()- conf_mat.sum(axis= 1)- conf_mat.sum(axis=0)+ np.diag(conf_mat)\n",
        "specificity= np.mean(tn/tn + conf_mat.sum(axis= 1)- np.diag(conf_mat))\n"
      ],
      "metadata": {
        "colab": {
          "base_uri": "https://localhost:8080/"
        },
        "id": "8Io0Mh7O_EF6",
        "outputId": "c06b7811-4d47-4dbe-b3db-d476cf4b601c"
      },
      "execution_count": 28,
      "outputs": [
        {
          "output_type": "stream",
          "name": "stdout",
          "text": [
            "\u001b[1m313/313\u001b[0m \u001b[32m━━━━━━━━━━━━━━━━━━━━\u001b[0m\u001b[37m\u001b[0m \u001b[1m3s\u001b[0m 10ms/step\n"
          ]
        }
      ]
    },
    {
      "cell_type": "code",
      "source": [
        "print(f'Acurácia:{accuracy:.4f}')\n",
        "print(f'Sensibilidade: (Recall): {sensibilidade:.4f}')\n",
        "print(f'Precisão: {precisao:.4f}')\n",
        "print(f'Especificidade: {specificity:.4f}')\n",
        "print(f'F-score: {f_score:.4f}')"
      ],
      "metadata": {
        "colab": {
          "base_uri": "https://localhost:8080/"
        },
        "id": "okCh0lSNEfuD",
        "outputId": "01cb4109-d826-4c2a-a33f-b015fb4c2d2e"
      },
      "execution_count": 29,
      "outputs": [
        {
          "output_type": "stream",
          "name": "stdout",
          "text": [
            "Acurácia:0.9886\n",
            "Sensibilidade: (Recall): 0.9886\n",
            "Precisão: 0.9887\n",
            "Especificidade: 12.4000\n",
            "F-score: 0.9886\n"
          ]
        }
      ]
    },
    {
      "cell_type": "code",
      "source": [
        "con_mat_norm = np.around(conf_mat.astype('float')/ conf_mat.sum(axis= 1)[:, np.newaxis],decimals=2)\n",
        "classes= [0,1,2,3,4,5,6,7,8,9,]\n",
        "con_mat_df= pd.DataFrame(con_mat_norm, index=classes, columns=classes)\n",
        "plt.figure(figsize=(8, 8))\n",
        "sns.heatmap(con_mat_df, annot=True, cmap=plt.cm.Blues)\n",
        "plt.tight_layout()\n",
        "plt.ylabel('True label')\n",
        "plt.xlabel('Predict label')\n",
        "plt.show()"
      ],
      "metadata": {
        "colab": {
          "base_uri": "https://localhost:8080/",
          "height": 826
        },
        "id": "m5TtBMqHJbzz",
        "outputId": "378b038f-7ba2-4287-dd79-88cbb6a45d04"
      },
      "execution_count": 32,
      "outputs": [
        {
          "output_type": "display_data",
          "data": {
            "text/plain": [
              "<Figure size 800x800 with 2 Axes>"
            ],
            "image/png": "[encoded data removed]"
          },
          "metadata": {}
        }
      ]
    }
  ],
  "metadata": {
    "colab": {
      "provenance": [],
      "authorship_tag": "ABX9TyOyap+kVXA2LaN7NjGz683s",
      "include_colab_link": true
    },
    "kernelspec": {
      "display_name": "Python 3",
      "name": "python3"
    },
    "language_info": {
      "name": "python"
    }
  },
  "nbformat": 4,
  "nbformat_minor": 0
}