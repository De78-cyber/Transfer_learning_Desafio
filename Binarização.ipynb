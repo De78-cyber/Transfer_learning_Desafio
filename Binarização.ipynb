{
  "cells": [
    {
      "cell_type": "markdown",
      "metadata": {
        "id": "view-in-github",
        "colab_type": "text"
      },
      "source": [
        "<a href=\"https://colab.research.google.com/github/De78-cyber/Transfer_learning_Desafio/blob/main/Binariza%C3%A7%C3%A3o.ipynb\" target=\"_parent\"><img src=\"https://colab.research.google.com/assets/colab-badge.svg\" alt=\"Open In Colab\"/></a>"
      ]
    },
    {
      "cell_type": "code",
      "execution_count": 35,
      "metadata": {
        "collapsed": true,
        "id": "F6oZShUQzh0b",
        "outputId": "1ee700fb-ced1-4995-cbf7-b419e1c40cce",
        "colab": {
          "base_uri": "https://localhost:8080/",
          "resources": {
            "http://localhost:8080/imagem_bin.jpg": {
              "data": "",
              "ok": false,
              "headers": [
                [
                  "content-length",
                  "0"
                ]
              ],
              "status": 404,
              "status_text": "Not Found"
            },
            "http://localhost:8080/IMG-20220808-WA0004.jpg": {
              "data": "",
              "ok": false,
              "headers": [
                [
                  "content-length",
                  "0"
                ]
              ],
              "status": 404,
              "status_text": "Not Found"
            },
            "http://localhost:8080/imagem_cinza.jpg": {
              "data": "",
              "ok": false,
              "headers": [
                [
                  "content-length",
                  "0"
                ]
              ],
              "status": 404,
              "status_text": "Not Found"
            }
          },
          "height": 397
        }
      },
      "outputs": [
        {
          "output_type": "display_data",
          "data": {
            "text/plain": [
              "<IPython.core.display.HTML object>"
            ],
            "text/html": [
              "\n",
              "<div style=\"display: flex;\">\n",
              "     <div>\n",
              "        <h3>Imagem Original</h3>\n",
              "        <img src =\"IMG-20220808-WA0004.jpg\" alt=\"Imagem Original\" widht=\"300\">\n",
              " </div>\n",
              " <div>\n",
              "    <h3>Imagem em Escala de Cinza</h3>\n",
              "     <img src =\" imagem_cinza.jpg\" alt=\"Imagem em Escala de Cinza\" width=\"300\">\n",
              " </div>\n",
              " <div>\n",
              "    <h3> Imagem Preto e Branco</h3>\n",
              "    <img src=\"imagem_bin.jpg\" alt=\"Imagem Preto e Branco\" wdith=\"300\">\n",
              " <div>\n",
              "<div>\n"
            ]
          },
          "metadata": {}
        },
        {
          "output_type": "stream",
          "name": "stdout",
          "text": [
            "Imagens salvas com sucesso\n",
            "Imagem não encontrada\n"
          ]
        }
      ],
      "source": [
        "from PIL import Image\n",
        "import os\n",
        "# função para carregar a imagem\n",
        "def carregar_imagem(path):\n",
        "  if os.path.exists(path):\n",
        "      img = Image.open(path)\n",
        "      return img\n",
        "  else:\n",
        "     raise Exception(f\" caminho não encontrado: {path}\")\n",
        "\n",
        "\n",
        "# Caminho da imagem de entrada\n",
        "path = '/content/IMG-20220808-WA0004.jpg'\n",
        "imagem_colorida = carregar_imagem(path)\n",
        "imagem_colorida.show(title=\"Imagem Original\")\n",
        "\n",
        "def to_grayscale(img):\n",
        "    gray = Image.new(\"L\", img.size)\n",
        "    gray_pixels = gray.load()\n",
        "    matriz = img.load()\n",
        "    width, height = img.size\n",
        "\n",
        "    for x in range(width):\n",
        "      for y in range(height):\n",
        "            r, g, b= matriz[x, y]\n",
        "            grayscale_value =int(0.299 * r + 0.587 * g + 0.114 * b)\n",
        "            gray_pixels[x, y] =  grayscale_value\n",
        "\n",
        "    return gray\n",
        "# converter para tons de cinza\n",
        "imagem_cinza = to_grayscale(imagem_colorida)\n",
        "imagem_cinza.save('imagem_cinza.jpg')\n",
        "imagem_cinza.show(title=\"Imagem em Escala de Cinza\")\n",
        "\n",
        "def to_black_and_white(img, threshold= 90):\n",
        "    gray_image = to_grayscale(img)\n",
        "    bw_img = Image.new(\"1\",img.size)\n",
        "    gray_pixels = gray_image.load()\n",
        "    bw_pixels = bw_img.load()\n",
        "    width, height = img.size\n",
        "\n",
        "    for x in range(width):\n",
        "       for y in range(height):\n",
        "          bw_pixels[x,y] = 1 if gray_pixels[x, y]>= threshold else 0\n",
        "\n",
        "    return bw_img\n",
        "\n",
        "# Binarizar a imagem\n",
        "imagem_bin = to_black_and_white(imagem_colorida)\n",
        "imagem_bin.save('imagem_bin.jpg')\n",
        "imagem_bin.show(title=\"Imagem Preto e Branco\")\n",
        "\n",
        "\n",
        "from IPython.display import display, HTML\n",
        "# Exibir as imagens lado a lado\n",
        "html_content = \"\"\"\n",
        "<div style=\"display: flex;\">\n",
        "     <div>\n",
        "        <h3>Imagem Original</h3>\n",
        "        <img src =\"IMG-20220808-WA0004.jpg\" alt=\"Imagem Original\" widht=\"300\">\n",
        " </div>\n",
        " <div>\n",
        "    <h3>Imagem em Escala de Cinza</h3>\n",
        "     <img src =\" imagem_cinza.jpg\" alt=\"Imagem em Escala de Cinza\" width=\"300\">\n",
        " </div>\n",
        " <div>\n",
        "    <h3> Imagem Preto e Branco</h3>\n",
        "    <img src=\"imagem_bin.jpg\" alt=\"Imagem Preto e Branco\" wdith=\"300\">\n",
        " <div>\n",
        "<div>\n",
        "\"\"\"\n",
        "\n",
        "try:\n",
        "  display(HTML(html_content))\n",
        "  print(\"Imagens salvas com sucesso\")\n",
        "\n",
        "except Exception as e:\n",
        "    print(f\" Erro ao abrir a imagem: {e}\")\n",
        "\n",
        "else:\n",
        "    print(\"Imagem não encontrada\")"
      ]
    },
    {
      "cell_type": "markdown",
      "metadata": {
        "id": "pHVOqXLG85YK"
      },
      "source": []
    },
    {
      "cell_type": "code",
      "source": [],
      "metadata": {
        "id": "Ls_SGh10QoRw"
      },
      "execution_count": null,
      "outputs": []
    }
  ],
  "metadata": {
    "colab": {
      "provenance": [],
      "authorship_tag": "ABX9TyPmzQ35qguUsxNZhFGR0G/R",
      "include_colab_link": true
    },
    "kernelspec": {
      "display_name": "Python 3",
      "name": "python3"
    },
    "language_info": {
      "name": "python"
    }
  },
  "nbformat": 4,
  "nbformat_minor": 0
}